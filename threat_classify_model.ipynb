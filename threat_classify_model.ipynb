{
 "cells": [
  {
   "cell_type": "code",
   "execution_count": 1,
   "id": "dc100cf8",
   "metadata": {},
   "outputs": [],
   "source": [
    "import cv2\n",
    "import numpy as np\n",
    "import os\n",
    "import tensorflow as tf\n",
    "from tensorflow.keras.layers import Conv3D, MaxPooling3D, Flatten, Dense\n",
    "from tensorflow.keras.layers import LSTM\n",
    "from tensorflow.keras.optimizers import Adam\n",
    "from tensorflow.keras.losses import BinaryCrossentropy\n",
    "\n",
    "\n",
    "\n",
    "num_frames = 16\n",
    "num_samples = 500\n",
    "\n",
    "\n",
    "\n"
   ]
  },
  {
   "cell_type": "markdown",
   "id": "e25cdda5",
   "metadata": {},
   "source": [
    "## Preparing dataset for training"
   ]
  },
  {
   "cell_type": "code",
   "execution_count": 7,
   "id": "5943a045",
   "metadata": {},
   "outputs": [],
   "source": [
    "video_data = np.zeros((1000, num_frames, 128, 128, 3), dtype=np.float32)\n",
    "output_data = []\n",
    "\n",
    "video_path = 'Real Life Violence Dataset/Violence'\n",
    "list1 = os.listdir(video_path)[:num_samples]\n",
    "\n",
    "\n",
    "\n",
    "\n",
    "\n",
    "for i in range(num_samples):\n",
    "    video = cv2.VideoCapture(os.path.join(video_path, list1[i]))\n",
    "\n",
    "    frames = np.zeros((num_frames, 128, 128, 3), dtype=np.float32)\n",
    "\n",
    "    for j in range(num_frames):\n",
    "        ret, frame = video.read()\n",
    "\n",
    "        frames[j]  =  np.array(cv2.resize(frame, (128, 128)), dtype=np.float64) / 255.0\n",
    "\n",
    "       \n",
    "\n",
    "    video_data[i] = frames\n",
    "    output_data.append(1)\n",
    "\n"
   ]
  },
  {
   "cell_type": "code",
   "execution_count": 8,
   "id": "4a9aebbc",
   "metadata": {},
   "outputs": [],
   "source": [
    "vid_path = 'Real Life Violence Dataset/NonViolence'\n",
    "list2 = os.listdir(vid_path)[:num_samples]\n",
    "\n",
    "\n",
    "for i in range(num_samples):\n",
    "    video = cv2.VideoCapture(os.path.join(vid_path, list2[i]))\n",
    "\n",
    "    frames = np.zeros((num_frames, 128, 128, 3), dtype=np.float32)\n",
    "\n",
    "    for j in range(num_frames):\n",
    "        ret, frame = video.read()\n",
    "        if ret:\n",
    "            frames[j]  =  np.array(cv2.resize(frame, (128, 128)), dtype=np.float64) / 255.0\n",
    "        else:\n",
    "            continue\n",
    "\n",
    "    video_data[i + num_samples] = frames\n",
    "    output_data.append(0)\n",
    "\n"
   ]
  },
  {
   "cell_type": "code",
   "execution_count": 9,
   "id": "ae27f730",
   "metadata": {},
   "outputs": [
    {
     "name": "stdout",
     "output_type": "stream",
     "text": [
      "(1000, 16, 128, 128, 3)\n"
     ]
    }
   ],
   "source": [
    "X = video_data\n",
    "y = output_data\n",
    "mean = np.mean(X)\n",
    "std = np.std(X)\n",
    "X = (X - mean) / std\n",
    "\n",
    "print(X.shape)\n",
    "#print(y.shape)\n",
    "\n",
    "\n",
    "\n"
   ]
  },
  {
   "cell_type": "code",
   "execution_count": 10,
   "id": "1e05c629",
   "metadata": {},
   "outputs": [
    {
     "name": "stdout",
     "output_type": "stream",
     "text": [
      "(1000,)\n"
     ]
    }
   ],
   "source": [
    "y = np.array(output_data,dtype=np.float32)\n",
    "print(y.shape)"
   ]
  },
  {
   "cell_type": "markdown",
   "id": "65d65bee",
   "metadata": {},
   "source": [
    "## Model Training\n"
   ]
  },
  {
   "cell_type": "code",
   "execution_count": 6,
   "id": "89178c48",
   "metadata": {},
   "outputs": [
    {
     "name": "stdout",
     "output_type": "stream",
     "text": [
      "Model: \"sequential\"\n",
      "_________________________________________________________________\n",
      " Layer (type)                Output Shape              Param #   \n",
      "=================================================================\n",
      " conv3d (Conv3D)             (None, 14, 126, 126, 128  10496     \n",
      "                             )                                   \n",
      "                                                                 \n",
      " max_pooling3d (MaxPooling3D  (None, 7, 63, 63, 128)   0         \n",
      " )                                                               \n",
      "                                                                 \n",
      " conv3d_1 (Conv3D)           (None, 5, 61, 61, 64)     221248    \n",
      "                                                                 \n",
      " max_pooling3d_1 (MaxPooling  (None, 2, 30, 30, 64)    0         \n",
      " 3D)                                                             \n",
      "                                                                 \n",
      " batch_normalization (BatchN  (None, 2, 30, 30, 64)    256       \n",
      " ormalization)                                                   \n",
      "                                                                 \n",
      " dropout (Dropout)           (None, 2, 30, 30, 64)     0         \n",
      "                                                                 \n",
      " flatten (Flatten)           (None, 115200)            0         \n",
      "                                                                 \n",
      " dense (Dense)               (None, 128)               14745728  \n",
      "                                                                 \n",
      " reshape (Reshape)           (None, 1, 128)            0         \n",
      "                                                                 \n",
      " lstm (LSTM)                 (None, 1, 128)            131584    \n",
      "                                                                 \n",
      " lstm_1 (LSTM)               (None, 64)                49408     \n",
      "                                                                 \n",
      " dropout_1 (Dropout)         (None, 64)                0         \n",
      "                                                                 \n",
      " dense_1 (Dense)             (None, 1)                 65        \n",
      "                                                                 \n",
      "=================================================================\n",
      "Total params: 15,158,785\n",
      "Trainable params: 15,158,657\n",
      "Non-trainable params: 128\n",
      "_________________________________________________________________\n"
     ]
    }
   ],
   "source": [
    "from tensorflow.keras.layers import Reshape ,BatchNormalization,Dropout\n",
    "\n",
    "model = tf.keras.models.Sequential()\n",
    "model.add(Conv3D(128, kernel_size=(3, 3, 3), activation='relu', input_shape=(num_frames, 128, 128, 3)))\n",
    "model.add(MaxPooling3D(pool_size=(2, 2, 2)))\n",
    "\n",
    "model.add(Conv3D(64, kernel_size=(3, 3, 3), activation='relu'))\n",
    "model.add(MaxPooling3D(pool_size=(2, 2, 2)))\n",
    "model.add(BatchNormalization())\n",
    "\n",
    "#model.add(Conv3D(32, kernel_size=(3, 3, 3), activation='relu'))\n",
    "#model.add(MaxPooling3D(pool_size=(2, 2, 2)))\n",
    "#model.add(BatchNormalization())\n",
    "\n",
    "model.add(Dropout(0.5))\n",
    "model.add(Flatten())\n",
    "model.add(Dense(128, activation='relu'))\n",
    "\n",
    "model.add(Reshape((1, 128)))\n",
    "\n",
    "model.add(LSTM(128,  return_sequences=True))\n",
    "model.add(LSTM(64))\n",
    "\n",
    "model.add(Dropout(0.5))\n",
    "model.add(Dense(1, activation='sigmoid'))\n",
    "\n",
    "model.compile(optimizer=Adam(learning_rate=1e-4), loss='binary_crossentropy', metrics=['accuracy'])\n",
    "\n",
    "model.summary()"
   ]
  },
  {
   "cell_type": "code",
   "execution_count": 11,
   "id": "f42ab578",
   "metadata": {},
   "outputs": [],
   "source": [
    "X = np.array(X).reshape(-1, 128, 128, 3)\n",
    "\n",
    "y = np.array(y)"
   ]
  },
  {
   "cell_type": "code",
   "execution_count": null,
   "id": "7ca00cd4",
   "metadata": {},
   "outputs": [],
   "source": [
    "model.fit(X, y, epochs=10 ,batch_size=32)"
   ]
  },
  {
   "cell_type": "markdown",
   "id": "e7da0393",
   "metadata": {},
   "source": [
    "## Preparing dataset for testing"
   ]
  },
  {
   "cell_type": "code",
   "execution_count": 19,
   "id": "db81fb34",
   "metadata": {},
   "outputs": [],
   "source": [
    "video_data = np.zeros((1000, num_frames, 128, 128, 3), dtype=np.float32)\n",
    "output_data = []\n",
    "\n",
    "video_path = 'threat/real life violence situations/Violence'\n",
    "list1 = os.listdir(video_path)[:num_samples]\n",
    "\n",
    "\n",
    "\n",
    "\n",
    "\n",
    "for i in range(num_samples):\n",
    "    video = cv2.VideoCapture(os.path.join(video_path, list1[i]))\n",
    "\n",
    "    frames = np.zeros((num_frames, 128, 128, 3), dtype=np.float32)\n",
    "\n",
    "    for j in range(num_frames):\n",
    "        ret, frame = video.read()\n",
    "\n",
    "        frame = cv2.resize(frame, (128, 128))\n",
    "        frame = np.array(frame, dtype=np.float64) / 255.0\n",
    "\n",
    "        frames[j] = frame\n",
    "\n",
    "    video_data[i] = frames\n",
    "    output_data.append(1)\n",
    "\n"
   ]
  },
  {
   "cell_type": "code",
   "execution_count": 20,
   "id": "f9b36f89",
   "metadata": {},
   "outputs": [],
   "source": [
    "vid_path = 'threat/real life violence situations/NonViolence'\n",
    "list2 = os.listdir(vid_path)[:num_samples]\n",
    "\n",
    "\n",
    "for i in range(num_samples):\n",
    "    video = cv2.VideoCapture(os.path.join(vid_path, list2[i]))\n",
    "\n",
    "    frames = np.zeros((num_frames, 128, 128, 3), dtype=np.float32)\n",
    "\n",
    "    for j in range(num_frames):\n",
    "        ret, frame = video.read()\n",
    "        if ret:\n",
    "            frame = cv2.resize(frame, (128, 128))\n",
    "            frame = np.array(frame, dtype=np.float32) / 255.0\n",
    "            frames[j] = frame\n",
    "        else:\n",
    "            continue\n",
    "\n",
    "    video_data[i + num_samples] = frames\n",
    "    output_data.append(0)"
   ]
  },
  {
   "cell_type": "code",
   "execution_count": 21,
   "id": "2c2f480b",
   "metadata": {},
   "outputs": [
    {
     "name": "stdout",
     "output_type": "stream",
     "text": [
      "(1000, 16, 128, 128, 3)\n",
      "(1000,)\n"
     ]
    }
   ],
   "source": [
    "X_test = video_data\n",
    "#y_test = tf.keras.utils.to_categorical(output_data, num_classes=2)\n",
    "y_test = np.array(output_data,dtype=np.float32)\n",
    "\n",
    "#mean = np.mean(X)\n",
    "#std = np.std(X)\n",
    "X_test = (X_test- mean) / std\n",
    "\n",
    "print(X_test.shape)\n",
    "print(y_test.shape)"
   ]
  },
  {
   "cell_type": "markdown",
   "id": "4e9bcb6d",
   "metadata": {},
   "source": [
    "## Model Evaluation"
   ]
  },
  {
   "cell_type": "code",
   "execution_count": 22,
   "id": "399220fe",
   "metadata": {},
   "outputs": [
    {
     "name": "stdout",
     "output_type": "stream",
     "text": [
      "32/32 [==============================] - 88s 2s/step - loss: 0.2169 - accuracy: 0.9290\n"
     ]
    }
   ],
   "source": [
    "#eva = model.evaluate(X_test, y_test) \n",
    "eva = md.evaluate(X_test, y_test) "
   ]
  },
  {
   "cell_type": "code",
   "execution_count": 15,
   "id": "489bd106",
   "metadata": {},
   "outputs": [
    {
     "name": "stdout",
     "output_type": "stream",
     "text": [
      "(1, 16, 128, 128, 3)\n",
      "1/1 [==============================] - 2s 2s/step\n",
      "[[0.9597803]]\n"
     ]
    }
   ],
   "source": [
    "sele = np.expand_dims(X_test[250], axis=0) \n",
    "print(sele.shape)\n",
    "y_pred = md.predict(sele)\n",
    "print(y_pred)"
   ]
  },
  {
   "cell_type": "code",
   "execution_count": 16,
   "id": "264bd611",
   "metadata": {},
   "outputs": [
    {
     "name": "stdout",
     "output_type": "stream",
     "text": [
      "[[1.]]\n"
     ]
    }
   ],
   "source": [
    "pred = np.round(y_pred)\n",
    "print(pred)"
   ]
  },
  {
   "cell_type": "code",
   "execution_count": 17,
   "id": "38f7b11d",
   "metadata": {},
   "outputs": [
    {
     "name": "stdout",
     "output_type": "stream",
     "text": [
      "1.0\n"
     ]
    }
   ],
   "source": [
    "print(y_test[250])"
   ]
  },
  {
   "cell_type": "code",
   "execution_count": 16,
   "id": "26b027db",
   "metadata": {},
   "outputs": [],
   "source": [
    "model.save(\"mdl_presentation.h5\")"
   ]
  },
  {
   "cell_type": "code",
   "execution_count": 3,
   "id": "dbfc825e",
   "metadata": {},
   "outputs": [],
   "source": [
    "from tensorflow.keras.models import load_model\n",
    "md = load_model('mdl_presentation.h5')"
   ]
  },
  {
   "cell_type": "code",
   "execution_count": 4,
   "id": "4d8e8ed7",
   "metadata": {},
   "outputs": [
    {
     "name": "stdout",
     "output_type": "stream",
     "text": [
      "Model: \"sequential_1\"\n",
      "_________________________________________________________________\n",
      " Layer (type)                Output Shape              Param #   \n",
      "=================================================================\n",
      " conv3d_2 (Conv3D)           (None, 14, 126, 126, 128  10496     \n",
      "                             )                                   \n",
      "                                                                 \n",
      " max_pooling3d_2 (MaxPooling  (None, 7, 63, 63, 128)   0         \n",
      " 3D)                                                             \n",
      "                                                                 \n",
      " conv3d_3 (Conv3D)           (None, 5, 61, 61, 64)     221248    \n",
      "                                                                 \n",
      " max_pooling3d_3 (MaxPooling  (None, 2, 30, 30, 64)    0         \n",
      " 3D)                                                             \n",
      "                                                                 \n",
      " batch_normalization_1 (Batc  (None, 2, 30, 30, 64)    256       \n",
      " hNormalization)                                                 \n",
      "                                                                 \n",
      " dropout_2 (Dropout)         (None, 2, 30, 30, 64)     0         \n",
      "                                                                 \n",
      " flatten_1 (Flatten)         (None, 115200)            0         \n",
      "                                                                 \n",
      " dense_2 (Dense)             (None, 128)               14745728  \n",
      "                                                                 \n",
      " reshape_1 (Reshape)         (None, 1, 128)            0         \n",
      "                                                                 \n",
      " lstm_2 (LSTM)               (None, 1, 128)            131584    \n",
      "                                                                 \n",
      " lstm_3 (LSTM)               (None, 64)                49408     \n",
      "                                                                 \n",
      " dropout_3 (Dropout)         (None, 64)                0         \n",
      "                                                                 \n",
      " dense_3 (Dense)             (None, 1)                 65        \n",
      "                                                                 \n",
      "=================================================================\n",
      "Total params: 15,158,785\n",
      "Trainable params: 15,158,657\n",
      "Non-trainable params: 128\n",
      "_________________________________________________________________\n"
     ]
    }
   ],
   "source": [
    "md.summary()"
   ]
  },
  {
   "cell_type": "markdown",
   "id": "2545ca72",
   "metadata": {},
   "source": [
    "## Violence Predection\n"
   ]
  },
  {
   "cell_type": "code",
   "execution_count": 27,
   "id": "8ef28342",
   "metadata": {},
   "outputs": [
    {
     "name": "stdout",
     "output_type": "stream",
     "text": [
      "(1, 16, 128, 128, 3)\n",
      "1/1 [==============================] - 0s 174ms/step\n",
      "[[0.05814742]]\n",
      "[[0.]]\n",
      "non violent\n"
     ]
    }
   ],
   "source": [
    "#video = cv2.VideoCapture('NV_98.mp4')\n",
    "#video = cv2.VideoCapture('NV_99.mp4')\n",
    "#video = cv2.VideoCapture('V_997.mp4')\n",
    "video = cv2.VideoCapture('v3.mp4')\n",
    "#video = cv2.VideoCapture('v2.mp4')\n",
    "#video = cv2.VideoCapture('tf1.mp4')\n",
    "#video = cv2.VideoCapture('vl1.mp4')\n",
    "\n",
    "\n",
    "fram = np.zeros((num_frames, 128, 128, 3), dtype=np.float32)\n",
    "\n",
    "for j in range(num_frames):\n",
    "    ret, fra = video.read()\n",
    "\n",
    "    fra= cv2.resize(fra, (128, 128))\n",
    "    fra = np.array(fra, dtype=np.float64) / 255.0\n",
    "    fram[j] = fra\n",
    "    cv2.imshow(\"fra\",fra)\n",
    "\n",
    "sele = np.expand_dims(fram, axis=0) \n",
    "\n",
    "mn = np.mean(sele)\n",
    "st= np.std(sele)\n",
    "\n",
    "sele = (sele - mn) / st\n",
    "print(sele.shape)\n",
    "y_pred = md.predict(sele)\n",
    "print(y_pred)\n",
    "#print(sele)\n",
    "pred = np.round(y_pred)\n",
    "print(pred)\n",
    "if(pred == 0):\n",
    "    print(\"non violent\")\n",
    "elif(pred ==1):\n",
    "    print(\"violent\")\n",
    "\n",
    "            \n",
    "    "
   ]
  },
  {
   "cell_type": "markdown",
   "id": "46f940d9",
   "metadata": {},
   "source": [
    "# Threat Classification In Live Video"
   ]
  },
  {
   "cell_type": "code",
   "execution_count": null,
   "id": "6a66f6aa",
   "metadata": {},
   "outputs": [],
   "source": [
    "import cv2\n",
    "import numpy as np\n",
    "import os\n",
    "import tensorflow as tf\n",
    "\n",
    "num_frames = 16\n",
    "\n",
    "\n",
    "model = tf.keras.models.load_model('mdl_presentation.h5')\n",
    "\n",
    "cap = cv2.VideoCapture(0)\n",
    "\n",
    "frames = np.zeros((num_frames, 128, 128, 3), dtype=np.float32)\n",
    "j=0\n",
    "while True:\n",
    "    ret, frame = cap.read()\n",
    "    print(j)\n",
    "    if not ret:\n",
    "        continue\n",
    "    \n",
    "    frame = cv2.resize(frame, (128, 128))\n",
    "    frame = np.array(frame, dtype=np.float32) / 255.0\n",
    "    frames[j] = frame\n",
    "   \n",
    "    \n",
    "    \n",
    "    if(j<num_frames-1):\n",
    "        \n",
    "        \n",
    "        j+=1\n",
    "        #print(j)\n",
    "    \n",
    "    if (j==15):\n",
    "        \n",
    "        sele = np.expand_dims(frames, axis=0) \n",
    "        mn = np.mean(sele)\n",
    "        st= np.std(sele)\n",
    "\n",
    "        sele = (sele - mn) / st\n",
    "        y_pred = model.predict(sele)\n",
    "        pred = np.round(y_pred)\n",
    "        print(y_pred)\n",
    "        print(\"pred\",pred)\n",
    "        clr=(0, 255, 0)\n",
    "        if pred == 0:\n",
    "            label = 'N-V'\n",
    "        else:\n",
    "            label = 'V'\n",
    "            clr=(0, 0, 255)\n",
    "\n",
    "        cv2.putText(frame, label, (10, 30), cv2.FONT_HERSHEY_SIMPLEX, 1, clr, 2)\n",
    "        cv2.imshow('frame', frame)\n",
    "        j=0\n",
    "    \n",
    "    \n",
    "\n",
    "    if cv2.waitKey(1) & 0xFF == ord('q'):\n",
    "        break\n",
    "\n",
    "cap.release()\n",
    "cv2.destroyAllWindows()\n"
   ]
  }
 ],
 "metadata": {
  "kernelspec": {
   "display_name": "rad-gpu",
   "language": "python",
   "name": "radeon"
  },
  "language_info": {
   "codemirror_mode": {
    "name": "ipython",
    "version": 3
   },
   "file_extension": ".py",
   "mimetype": "text/x-python",
   "name": "python",
   "nbconvert_exporter": "python",
   "pygments_lexer": "ipython3",
   "version": "3.9.18"
  }
 },
 "nbformat": 4,
 "nbformat_minor": 5
}
